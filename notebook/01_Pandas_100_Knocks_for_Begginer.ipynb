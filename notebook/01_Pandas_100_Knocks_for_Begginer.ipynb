{
 "cells": [
  {
   "cell_type": "markdown",
   "metadata": {},
   "source": [
    "# 初学者向けPandas100本ノックver1.0.7\n",
    "##### Shift + Enter で各セルのコードが実行されます\n",
    "・print(ans[ 問題番号 ]) で回答コード例を表示  \n",
    "・Python3エンジニア認定データ分析試験にも沿った問題内容   \n",
    "・Pandasの各メソッドの説明は以下のサイトが分かりやすいです  \n",
    " 　[note.nkmk.me](https://note.nkmk.me/pandas/)  \n",
    "・\"Data for Titanic passengers\" from [VANDERBILT UNIVERSITY](https://biostat.app.vumc.org/wiki/Main/DataSets)  \n",
    "  \n",
    "**本コンテンツ作成時のpandasのバージョンは1.1.0**\n",
    "  \n",
    "作成日:2020年9月24日  \n",
    "最終更新日:2023年1月16日  \n",
    "再配布・改編不可  \n",
    "作成者：[kunishou](https://qiita.com/kunishou)"
   ]
  },
  {
   "cell_type": "code",
   "execution_count": 1,
   "metadata": {},
   "outputs": [
    {
     "name": "stdout",
     "output_type": "stream",
     "text": [
      "[answer0]\n",
      "\n",
      "このように回答コード例がここに表示されます。\n",
      "各問題の回答コード例を表示するときはprintの前の\n",
      "#を消して実行して下さい。\n",
      "\n",
      "コード例をセル内にコピー&ペーストし\n",
      "実行すると、正解のデータが表示されます\n"
     ]
    }
   ],
   "source": [
    "# Shift + Enterで題材データ、回答コードを読み込んで下さい\n",
    "\n",
    "import pandas as pd\n",
    "import glob\n",
    "\n",
    "#題材データをdfに読み込み(タイタニック号の乗客データ、テストの点数データ 等)\n",
    "def initialize1():\n",
    "    df = pd.read_csv('../input/titanic3.csv')\n",
    "    return df\n",
    "\n",
    "def initialize2():\n",
    "    df = pd.read_csv('../input/data1.csv')\n",
    "    return df\n",
    "\n",
    "df = initialize1()\n",
    "df2 = initialize2()\n",
    "df3 = pd.read_csv('../input/data1_2.csv')\n",
    "df4 = pd.read_csv('../input/data1_3.csv')\n",
    "df5 = pd.read_csv('../input/data2.csv',encoding='cp932')\n",
    "\n",
    "#回答コードをansリストに格納\n",
    "path = sorted(glob.glob('../input/a_' + '*.txt'))\n",
    "\n",
    "ans = []\n",
    "\n",
    "for _ in range(len(path)):\n",
    "    with open(path[_], 'r',encoding='utf-8') as f:\n",
    "        ans.append(f.read())\n",
    "        \n",
    "print(ans[0])"
   ]
  },
  {
   "cell_type": "markdown",
   "metadata": {},
   "source": [
    "# Pandas基礎 (1 - 13)"
   ]
  },
  {
   "cell_type": "code",
   "execution_count": 6,
   "metadata": {},
   "outputs": [
    {
     "name": "stdout",
     "output_type": "stream",
     "text": [
      "   pclass  survived                                             name     sex  \\\n",
      "0       1         1                    Allen, Miss. Elisabeth Walton  female   \n",
      "1       1         1                   Allison, Master. Hudson Trevor    male   \n",
      "2       1         0                     Allison, Miss. Helen Loraine  female   \n",
      "3       1         0             Allison, Mr. Hudson Joshua Creighton    male   \n",
      "4       1         0  Allison, Mrs. Hudson J C (Bessie Waldo Daniels)  female   \n",
      "\n",
      "     age  sibsp  parch  ticket      fare    cabin embarked boat   body  \\\n",
      "0  29.00      0      0   24160  211.3375       B5        S    2    NaN   \n",
      "1   0.92      1      2  113781  151.5500  C22 C26        S   11    NaN   \n",
      "2   2.00      1      2  113781  151.5500  C22 C26        S  NaN    NaN   \n",
      "3  30.00      1      2  113781  151.5500  C22 C26        S  NaN  135.0   \n",
      "4  25.00      1      2  113781  151.5500  C22 C26        S  NaN    NaN   \n",
      "\n",
      "                         home.dest  \n",
      "0                     St Louis, MO  \n",
      "1  Montreal, PQ / Chesterville, ON  \n",
      "2  Montreal, PQ / Chesterville, ON  \n",
      "3  Montreal, PQ / Chesterville, ON  \n",
      "4  Montreal, PQ / Chesterville, ON  \n",
      "[answer1]\n",
      "\n",
      "df.head()\n",
      "\n",
      "\n",
      "[tips]\n",
      ".head()はデフォルトで先頭5行表示\n",
      "()に表示したい行数を入れる\n",
      "先頭10行表示は .head(10)\n"
     ]
    }
   ],
   "source": [
    "# 【1】\n",
    "# dfに読み込んだデータの最初の5行を表示\n",
    "#print(ans[1]) #回答表示\n",
    "df = initialize1() #初期化\n",
    "print(df.head())\n",
    "\n",
    "print(ans[1])"
   ]
  },
  {
   "cell_type": "code",
   "execution_count": 9,
   "metadata": {},
   "outputs": [
    {
     "data": {
      "text/html": [
       "<div>\n",
       "<style scoped>\n",
       "    .dataframe tbody tr th:only-of-type {\n",
       "        vertical-align: middle;\n",
       "    }\n",
       "\n",
       "    .dataframe tbody tr th {\n",
       "        vertical-align: top;\n",
       "    }\n",
       "\n",
       "    .dataframe thead th {\n",
       "        text-align: right;\n",
       "    }\n",
       "</style>\n",
       "<table border=\"1\" class=\"dataframe\">\n",
       "  <thead>\n",
       "    <tr style=\"text-align: right;\">\n",
       "      <th></th>\n",
       "      <th>pclass</th>\n",
       "      <th>survived</th>\n",
       "      <th>name</th>\n",
       "      <th>sex</th>\n",
       "      <th>age</th>\n",
       "      <th>sibsp</th>\n",
       "      <th>parch</th>\n",
       "      <th>ticket</th>\n",
       "      <th>fare</th>\n",
       "      <th>cabin</th>\n",
       "      <th>embarked</th>\n",
       "      <th>boat</th>\n",
       "      <th>body</th>\n",
       "      <th>home.dest</th>\n",
       "    </tr>\n",
       "  </thead>\n",
       "  <tbody>\n",
       "    <tr>\n",
       "      <th>1304</th>\n",
       "      <td>3</td>\n",
       "      <td>0</td>\n",
       "      <td>Zabour, Miss. Hileni</td>\n",
       "      <td>female</td>\n",
       "      <td>14.5</td>\n",
       "      <td>1</td>\n",
       "      <td>0</td>\n",
       "      <td>2665</td>\n",
       "      <td>14.4542</td>\n",
       "      <td>NaN</td>\n",
       "      <td>C</td>\n",
       "      <td>NaN</td>\n",
       "      <td>328.0</td>\n",
       "      <td>NaN</td>\n",
       "    </tr>\n",
       "    <tr>\n",
       "      <th>1305</th>\n",
       "      <td>3</td>\n",
       "      <td>0</td>\n",
       "      <td>Zabour, Miss. Thamine</td>\n",
       "      <td>female</td>\n",
       "      <td>NaN</td>\n",
       "      <td>1</td>\n",
       "      <td>0</td>\n",
       "      <td>2665</td>\n",
       "      <td>14.4542</td>\n",
       "      <td>NaN</td>\n",
       "      <td>C</td>\n",
       "      <td>NaN</td>\n",
       "      <td>NaN</td>\n",
       "      <td>NaN</td>\n",
       "    </tr>\n",
       "    <tr>\n",
       "      <th>1306</th>\n",
       "      <td>3</td>\n",
       "      <td>0</td>\n",
       "      <td>Zakarian, Mr. Mapriededer</td>\n",
       "      <td>male</td>\n",
       "      <td>26.5</td>\n",
       "      <td>0</td>\n",
       "      <td>0</td>\n",
       "      <td>2656</td>\n",
       "      <td>7.2250</td>\n",
       "      <td>NaN</td>\n",
       "      <td>C</td>\n",
       "      <td>NaN</td>\n",
       "      <td>304.0</td>\n",
       "      <td>NaN</td>\n",
       "    </tr>\n",
       "    <tr>\n",
       "      <th>1307</th>\n",
       "      <td>3</td>\n",
       "      <td>0</td>\n",
       "      <td>Zakarian, Mr. Ortin</td>\n",
       "      <td>male</td>\n",
       "      <td>27.0</td>\n",
       "      <td>0</td>\n",
       "      <td>0</td>\n",
       "      <td>2670</td>\n",
       "      <td>7.2250</td>\n",
       "      <td>NaN</td>\n",
       "      <td>C</td>\n",
       "      <td>NaN</td>\n",
       "      <td>NaN</td>\n",
       "      <td>NaN</td>\n",
       "    </tr>\n",
       "    <tr>\n",
       "      <th>1308</th>\n",
       "      <td>3</td>\n",
       "      <td>0</td>\n",
       "      <td>Zimmerman, Mr. Leo</td>\n",
       "      <td>male</td>\n",
       "      <td>29.0</td>\n",
       "      <td>0</td>\n",
       "      <td>0</td>\n",
       "      <td>315082</td>\n",
       "      <td>7.8750</td>\n",
       "      <td>NaN</td>\n",
       "      <td>S</td>\n",
       "      <td>NaN</td>\n",
       "      <td>NaN</td>\n",
       "      <td>NaN</td>\n",
       "    </tr>\n",
       "  </tbody>\n",
       "</table>\n",
       "</div>"
      ],
      "text/plain": [
       "      pclass  survived                       name     sex   age  sibsp  parch  \\\n",
       "1304       3         0       Zabour, Miss. Hileni  female  14.5      1      0   \n",
       "1305       3         0      Zabour, Miss. Thamine  female   NaN      1      0   \n",
       "1306       3         0  Zakarian, Mr. Mapriededer    male  26.5      0      0   \n",
       "1307       3         0        Zakarian, Mr. Ortin    male  27.0      0      0   \n",
       "1308       3         0         Zimmerman, Mr. Leo    male  29.0      0      0   \n",
       "\n",
       "      ticket     fare cabin embarked boat   body home.dest  \n",
       "1304    2665  14.4542   NaN        C  NaN  328.0       NaN  \n",
       "1305    2665  14.4542   NaN        C  NaN    NaN       NaN  \n",
       "1306    2656   7.2250   NaN        C  NaN  304.0       NaN  \n",
       "1307    2670   7.2250   NaN        C  NaN    NaN       NaN  \n",
       "1308  315082   7.8750   NaN        S  NaN    NaN       NaN  "
      ]
     },
     "execution_count": 9,
     "metadata": {},
     "output_type": "execute_result"
    }
   ],
   "source": [
    "# 【2】\n",
    "# dfに読み込んだデータの最後の5行を表示\n",
    "#print(ans[2]) #回答表示\n",
    "df = initialize1() #初期化\n",
    "df.tail()\n",
    " \n"
   ]
  },
  {
   "cell_type": "code",
   "execution_count": 13,
   "metadata": {},
   "outputs": [
    {
     "name": "stdout",
     "output_type": "stream",
     "text": [
      "18326\n",
      "(1309, 14) \n",
      "\n",
      "\n",
      "[answer3]\n",
      "\n",
      "df.shape\n"
     ]
    }
   ],
   "source": [
    "# 【3】\n",
    "# dfのDataFrameサイズを確認\n",
    "#print(ans[3]) #回答表示\n",
    "df = initialize1() #初期化\n",
    "print(df.size)\n",
    "print(df.shape, \"\\n\\n\")\n",
    "\n",
    "print(ans[3])\n",
    "\n"
   ]
  },
  {
   "cell_type": "code",
   "execution_count": 17,
   "metadata": {},
   "outputs": [
    {
     "name": "stdout",
     "output_type": "stream",
     "text": [
      "  name  class  English  Mathematics  History\n",
      "0    A      1       80           55       65\n",
      "1    B      1       55          100       83\n",
      "2    C      2       65           70       95\n",
      "3    D      1       40           63       70\n",
      "4    E      2       76           82       79\n",
      "[answer4]\n",
      "\n",
      "df2 = pd.read_csv('../input/data1.csv')\n",
      "df2.head()\n",
      "\n",
      "\n",
      "[Tips]\n",
      "・csvの読み込みはread_csv\n",
      "・必要に応じてencoding=''を指定する\n",
      "utf-8\n",
      "shift_jis (日本語)\n",
      "cp932 (Windows拡張文字含む日本語)\n",
      "\n",
      "ex)\n",
      "df2 = pd.read_csv('../input/data1.csv',encoding='utf-8')\n"
     ]
    }
   ],
   "source": [
    "# 【4】\n",
    "# inputフォルダ内のdata1.csvファイルを\n",
    "# 読み込みdf2に格納して、最初の5行を表示\n",
    "#print(ans[4]) #回答表示\n",
    "import os\n",
    "df2 = pd.read_csv(r\"D:\\program\\programming\\study\\Pandas_100_knocks\\input\\data1.csv\")\n",
    "print(df2.head())\n",
    "print(ans[4])\n"
   ]
  },
  {
   "cell_type": "code",
   "execution_count": null,
   "metadata": {},
   "outputs": [
    {
     "name": "stdout",
     "output_type": "stream",
     "text": [
      "[answer5]\n",
      "\n",
      "df.sort_values('fare')\n",
      "\n",
      "\n",
      "[Tips]\n",
      "・要素でソートするときはsort_valuesを使用\n",
      "・デフォルトでは昇順\n",
      "・降順でソートしたい場合は ascending=False を指定\n",
      "・ソートする列を複数指定可能\n",
      "\n",
      "ex)\n",
      "降順でソート\n",
      "df.sort_values('fare', ascending=False)\n",
      "\n",
      "複数列でのソート\n",
      "df.sort_values(['fare','age'])\n"
     ]
    }
   ],
   "source": [
    "# 【5】\n",
    "# dfのfareの列で昇順に並び替えて表示\n",
    "#print(ans[5]) #回答表示\n",
    "df = initialize1() #初期化\n",
    "df.sort_values(\"fare\")\n",
    "print(ans[5])\n",
    "\n"
   ]
  },
  {
   "cell_type": "code",
   "execution_count": 27,
   "metadata": {},
   "outputs": [
    {
     "name": "stdout",
     "output_type": "stream",
     "text": [
      "[answer6]\n",
      "\n",
      "df_copy = df.copy()\n",
      "df_copy.head()\n",
      "\n",
      "\n",
      "[Tips]\n",
      "① df_copy = df と ② df_copy = df.copy() では\n",
      "挙動が異なるので注意が必要。\n",
      "\n",
      "①の場合、df_copyはdfを参照しているだけのため、\n",
      "df側の値を変えると、df_copy側の値も変わる\n",
      "(dfとdf_copyは連動)。\n",
      "\n",
      "df側の値の変更をdf_copy側に反映させたくない\n",
      "場合には②のcopy()を使う(dfとdf_copyは独立)。\n"
     ]
    }
   ],
   "source": [
    "# 【6】\n",
    "# df_copyにdfをコピーして、最初の5行を表示\n",
    "#print(ans[6]) #回答表示\n",
    "df = initialize1() #初期化\n",
    "\n",
    "df_copy = df.copy()\n",
    "df_copy.head()\n",
    "\n",
    "\n",
    "print(ans[6])"
   ]
  },
  {
   "cell_type": "code",
   "execution_count": 42,
   "metadata": {},
   "outputs": [
    {
     "name": "stdout",
     "output_type": "stream",
     "text": [
      "pclass         int64\n",
      "survived       int64\n",
      "name          object\n",
      "sex           object\n",
      "age          float64\n",
      "sibsp          int64\n",
      "parch          int64\n",
      "ticket        object\n",
      "fare         float64\n",
      "cabin         object\n",
      "embarked      object\n",
      "boat          object\n",
      "body         float64\n",
      "home.dest     object\n",
      "dtype: object\n",
      "object\n",
      "[answer7]\n",
      "\n",
      "print(df.dtypes)\n",
      "print(df['cabin'].dtype)\n",
      "\n",
      "\n",
      "[Tips]\n",
      "・DataFrameのすべての列のデータ型を確認したい場合は dtypes\n",
      "・DataFrameの一つの列のデータ型を確認したい場合は dtype\n",
      "\n",
      "※複数のコードの結果を表示したい場合、printを使用\n",
      "(printをつけない場合、1行目のdtypesの結果しか表示されない)\n"
     ]
    }
   ],
   "source": [
    "# 【7】\n",
    "# ① dfの各列のデータ型を確認\n",
    "# ② dfのcabinの列のデータ型を確認\n",
    "#print(ans[7]) #回答表示\n",
    "df = initialize1() #初期化\n",
    "df.head()\n",
    "print(df.dtypes)\n",
    "print(df[\"cabin\"].dtypes)\n",
    "\n",
    "print(ans[7])"
   ]
  },
  {
   "cell_type": "code",
   "execution_count": 50,
   "metadata": {},
   "outputs": [
    {
     "name": "stdout",
     "output_type": "stream",
     "text": [
      "[answer8]\n",
      "\n",
      "print(df['pclass'].dtype)\n",
      "df['pclass'] = df['pclass'].astype(str)\n",
      "print(df['pclass'].dtype)\n",
      "\n",
      "\n",
      "[Tips]\n",
      "・データ型を変更する場合は astype を使用\n",
      "・問題40の列同士の結合では、数値列と文字列を\n",
      "結合しますが、データ型が異なると結合が上手く\n",
      "いきません。両方の列のデータ型が同じになるように\n",
      "astypeを使用してデータ型の変換をします。\n"
     ]
    }
   ],
   "source": [
    "# 【8】\n",
    "# ① dfのpclassの列のデータ型をdtypeで確認\n",
    "# ② 数値型から文字型に変換し、データ型をdtypeで確認\n",
    "#print(ans[8]) #回答表示\n",
    "df = initialize1() #初期化\n",
    "\n",
    "df[\"pclass\"].dtype\n",
    "df[\"pclass\"] = df[\"pclass\"].astype(str)\n",
    "\n",
    "\n",
    "print(ans[8])\n"
   ]
  },
  {
   "cell_type": "code",
   "execution_count": 55,
   "metadata": {},
   "outputs": [
    {
     "name": "stdout",
     "output_type": "stream",
     "text": [
      "1309\n",
      "1309\n",
      "[answer9]\n",
      "\n",
      "len(df)\n",
      "\n",
      "\n",
      "[Tips]\n",
      "dataframeのレコード数(行数)を知りたい時は\n",
      "len()を使用\n"
     ]
    }
   ],
   "source": [
    "# 【9】\n",
    "# dfのレコード数(行数)を確認\n",
    "#print(ans[9]) #回答表示\n",
    "df = initialize1() #初期化\n",
    "print(df.shape[0])\n",
    "print(len(df))\n",
    "print(ans[9])\n"
   ]
  },
  {
   "cell_type": "code",
   "execution_count": 57,
   "metadata": {},
   "outputs": [
    {
     "name": "stdout",
     "output_type": "stream",
     "text": [
      "<class 'pandas.core.frame.DataFrame'>\n",
      "RangeIndex: 1309 entries, 0 to 1308\n",
      "Data columns (total 14 columns):\n",
      " #   Column     Non-Null Count  Dtype  \n",
      "---  ------     --------------  -----  \n",
      " 0   pclass     1309 non-null   int64  \n",
      " 1   survived   1309 non-null   int64  \n",
      " 2   name       1309 non-null   object \n",
      " 3   sex        1309 non-null   object \n",
      " 4   age        1046 non-null   float64\n",
      " 5   sibsp      1309 non-null   int64  \n",
      " 6   parch      1309 non-null   int64  \n",
      " 7   ticket     1309 non-null   object \n",
      " 8   fare       1308 non-null   float64\n",
      " 9   cabin      295 non-null    object \n",
      " 10  embarked   1307 non-null   object \n",
      " 11  boat       486 non-null    object \n",
      " 12  body       121 non-null    float64\n",
      " 13  home.dest  745 non-null    object \n",
      "dtypes: float64(3), int64(4), object(7)\n",
      "memory usage: 143.3+ KB\n",
      "None\n",
      "[answer10]\n",
      "\n",
      "df.info()\n",
      "\n",
      "\n",
      "[Tips]\n",
      "・レコード数(行数)、各列のデータ型、欠損値の有無の\n",
      "　確認にはinfo()を使用\n",
      "・RangeIndexがレコード数\n",
      "・Data columnsがカラム数\n",
      "・Non-Null Countがレコードが入ってる数\n",
      "・今回、1309レコードだがcabinのNon-Null Countは\n",
      "　295なので1309-295のレコードについては欠損している\n"
     ]
    }
   ],
   "source": [
    "# 【10】\n",
    "# dfのレコード数(行数)、各列のデータ型、欠損値の有無を確認\n",
    "#print(ans[10]) #回答表示\n",
    "df = initialize1() #初期化\n",
    "\n",
    "print(df.info())\n",
    "\n",
    "print(ans[10])"
   ]
  },
  {
   "cell_type": "code",
   "execution_count": 61,
   "metadata": {},
   "outputs": [
    {
     "name": "stdout",
     "output_type": "stream",
     "text": [
      "['female' 'male'] ['B5' 'C22 C26' 'E12' 'D7' 'A36' 'C101' nan 'C62 C64' 'B35' 'A23'\n",
      " 'B58 B60' 'D15' 'C6' 'D35' 'C148' 'C97' 'B49' 'C99' 'C52' 'T' 'A31' 'C7'\n",
      " 'C103' 'D22' 'E33' 'A21' 'B10' 'B4' 'E40' 'B38' 'E24' 'B51 B53 B55'\n",
      " 'B96 B98' 'C46' 'E31' 'E8' 'B61' 'B77' 'A9' 'C89' 'A14' 'E58' 'E49' 'E52'\n",
      " 'E45' 'B22' 'B26' 'C85' 'E17' 'B71' 'B20' 'A34' 'C86' 'A16' 'A20' 'A18'\n",
      " 'C54' 'C45' 'D20' 'A29' 'C95' 'E25' 'C111' 'C23 C25 C27' 'E36' 'D34'\n",
      " 'D40' 'B39' 'B41' 'B102' 'C123' 'E63' 'C130' 'B86' 'C92' 'A5' 'C51' 'B42'\n",
      " 'C91' 'C125' 'D10 D12' 'B82 B84' 'E50' 'D33' 'C83' 'B94' 'D49' 'D45'\n",
      " 'B69' 'B11' 'E46' 'C39' 'B18' 'D11' 'C93' 'B28' 'C49' 'B52 B54 B56' 'E60'\n",
      " 'C132' 'B37' 'D21' 'D19' 'C124' 'D17' 'B101' 'D28' 'D6' 'D9' 'B80' 'C106'\n",
      " 'B79' 'C47' 'D30' 'C90' 'E38' 'C78' 'C30' 'C118' 'D36' 'D48' 'D47' 'C105'\n",
      " 'B36' 'B30' 'D43' 'B24' 'C2' 'C65' 'B73' 'C104' 'C110' 'C50' 'B3' 'A24'\n",
      " 'A32' 'A11' 'A10' 'B57 B59 B63 B66' 'C28' 'E44' 'A26' 'A6' 'A7' 'C31'\n",
      " 'A19' 'B45' 'E34' 'B78' 'B50' 'C87' 'C116' 'C55 C57' 'D50' 'E68' 'E67'\n",
      " 'C126' 'C68' 'C70' 'C53' 'B19' 'D46' 'D37' 'D26' 'C32' 'C80' 'C82' 'C128'\n",
      " 'E39 E41' 'D' 'F4' 'D56' 'F33' 'E101' 'E77' 'F2' 'D38' 'F' 'F G63'\n",
      " 'F E57' 'F E46' 'F G73' 'E121' 'F E69' 'E10' 'G6' 'F38']\n",
      "[answer11]\n",
      "\n",
      "print(df['sex'].unique())\n",
      "print(df['cabin'].unique())\n",
      "\n",
      "\n",
      "[Tips]\n",
      "列に含まれる要素の確認にはunique()を使用\n"
     ]
    }
   ],
   "source": [
    "# 【11】\n",
    "# dfのsex,cabinの列の要素を確認\n",
    "#print(ans[11]) #回答表示\n",
    "df = initialize1() #初期化\n",
    "\n",
    "print(df[\"sex\"].unique(), df[\"cabin\"].unique())\n",
    "print(ans[11])\n"
   ]
  },
  {
   "cell_type": "code",
   "execution_count": 67,
   "metadata": {},
   "outputs": [
    {
     "name": "stdout",
     "output_type": "stream",
     "text": [
      "['pclass', 'survived', 'name', 'sex', 'age', 'sibsp', 'parch', 'ticket', 'fare', 'cabin', 'embarked', 'boat', 'body', 'home.dest']\n",
      "[answer12]\n",
      "\n",
      "df.columns.tolist()\n",
      "\n",
      "\n",
      "[Tips]\n",
      "・列名を一覧表示するにはcolumnsを使用\n",
      "・.tolist()を付けることでlist形式に変換\n",
      "・ndarray形式で表示する場合は.valuesを使用\n",
      "\n",
      "df.columns.values\n"
     ]
    }
   ],
   "source": [
    "# 【12】\n",
    "# dfの列名一覧をlist形式で表示\n",
    "#print(ans[12]) #回答表示\n",
    "df = initialize1() #初期化\n",
    "\n",
    "print(df.columns.to_list())\n",
    "\n",
    "print(ans[12])"
   ]
  },
  {
   "cell_type": "code",
   "execution_count": 70,
   "metadata": {},
   "outputs": [
    {
     "name": "stdout",
     "output_type": "stream",
     "text": [
      "[   0    1    2 ... 1306 1307 1308]\n",
      "[answer13]\n",
      "\n",
      "df.index.values\n",
      "\n",
      "\n",
      "[Tips]\n",
      "・インデックスを一覧表示するには.indexを使用\n",
      "・.valuesを付けることでndaaray形式に変換\n",
      "・list形式で表示する場合はtolist()を使用\n",
      "\n",
      "df.index.tolist()\n"
     ]
    }
   ],
   "source": [
    "# 【13】\n",
    "# dfのインデックス一覧をndaaray形式で表示\n",
    "#print(ans[13]) #回答表示\n",
    "df = initialize1() #初期化#\n",
    "\n",
    "print(df.index.values)\n",
    "\n",
    "print(ans[13])\n",
    "\n"
   ]
  },
  {
   "cell_type": "markdown",
   "metadata": {},
   "source": [
    "# データ抽出 (14 - 32)"
   ]
  },
  {
   "cell_type": "code",
   "execution_count": 72,
   "metadata": {},
   "outputs": [
    {
     "name": "stdout",
     "output_type": "stream",
     "text": [
      "0                         Allen, Miss. Elisabeth Walton\n",
      "1                        Allison, Master. Hudson Trevor\n",
      "2                          Allison, Miss. Helen Loraine\n",
      "3                  Allison, Mr. Hudson Joshua Creighton\n",
      "4       Allison, Mrs. Hudson J C (Bessie Waldo Daniels)\n",
      "                             ...                       \n",
      "1304                               Zabour, Miss. Hileni\n",
      "1305                              Zabour, Miss. Thamine\n",
      "1306                          Zakarian, Mr. Mapriededer\n",
      "1307                                Zakarian, Mr. Ortin\n",
      "1308                                 Zimmerman, Mr. Leo\n",
      "Name: name, Length: 1309, dtype: object\n",
      "[answer14]\n",
      "\n",
      "df['name']\n"
     ]
    }
   ],
   "source": [
    "# 【14】\n",
    "# dfのnameの列のみ表示\n",
    "#print(ans[14]) #回答表示\n",
    "df = initialize1() #初期化\n",
    "\n",
    "print(df[\"name\"])\n",
    "print(ans[14])\n"
   ]
  },
  {
   "cell_type": "code",
   "execution_count": 73,
   "metadata": {},
   "outputs": [
    {
     "name": "stdout",
     "output_type": "stream",
     "text": [
      "                                                 name     sex\n",
      "0                       Allen, Miss. Elisabeth Walton  female\n",
      "1                      Allison, Master. Hudson Trevor    male\n",
      "2                        Allison, Miss. Helen Loraine  female\n",
      "3                Allison, Mr. Hudson Joshua Creighton    male\n",
      "4     Allison, Mrs. Hudson J C (Bessie Waldo Daniels)  female\n",
      "...                                               ...     ...\n",
      "1304                             Zabour, Miss. Hileni  female\n",
      "1305                            Zabour, Miss. Thamine  female\n",
      "1306                        Zakarian, Mr. Mapriededer    male\n",
      "1307                              Zakarian, Mr. Ortin    male\n",
      "1308                               Zimmerman, Mr. Leo    male\n",
      "\n",
      "[1309 rows x 2 columns]\n",
      "[answer15]\n",
      "\n",
      "df[['name','sex']]\n"
     ]
    }
   ],
   "source": [
    "# 【15】\n",
    "# dfのnameとsexの列のみ表示\n",
    "#print(ans[15]) #回答表示\n",
    "df = initialize1() #初期化\n",
    "\n",
    "print(df[[\"name\", \"sex\"]])\n",
    "\n",
    "print(ans[15])\n",
    "\n"
   ]
  },
  {
   "cell_type": "code",
   "execution_count": 76,
   "metadata": {},
   "outputs": [
    {
     "name": "stdout",
     "output_type": "stream",
     "text": [
      "   pclass  survived                                  name     sex    age  \\\n",
      "0       1         1         Allen, Miss. Elisabeth Walton  female  29.00   \n",
      "1       1         1        Allison, Master. Hudson Trevor    male   0.92   \n",
      "2       1         0          Allison, Miss. Helen Loraine  female   2.00   \n",
      "3       1         0  Allison, Mr. Hudson Joshua Creighton    male  30.00   \n",
      "\n",
      "   sibsp  parch  ticket      fare    cabin embarked boat   body  \\\n",
      "0      0      0   24160  211.3375       B5        S    2    NaN   \n",
      "1      1      2  113781  151.5500  C22 C26        S   11    NaN   \n",
      "2      1      2  113781  151.5500  C22 C26        S  NaN    NaN   \n",
      "3      1      2  113781  151.5500  C22 C26        S  NaN  135.0   \n",
      "\n",
      "                         home.dest  \n",
      "0                     St Louis, MO  \n",
      "1  Montreal, PQ / Chesterville, ON  \n",
      "2  Montreal, PQ / Chesterville, ON  \n",
      "3  Montreal, PQ / Chesterville, ON  \n",
      "   pclass  survived                                  name     sex    age  \\\n",
      "0       1         1         Allen, Miss. Elisabeth Walton  female  29.00   \n",
      "1       1         1        Allison, Master. Hudson Trevor    male   0.92   \n",
      "2       1         0          Allison, Miss. Helen Loraine  female   2.00   \n",
      "3       1         0  Allison, Mr. Hudson Joshua Creighton    male  30.00   \n",
      "\n",
      "   sibsp  parch  ticket      fare    cabin embarked boat   body  \\\n",
      "0      0      0   24160  211.3375       B5        S    2    NaN   \n",
      "1      1      2  113781  151.5500  C22 C26        S   11    NaN   \n",
      "2      1      2  113781  151.5500  C22 C26        S  NaN    NaN   \n",
      "3      1      2  113781  151.5500  C22 C26        S  NaN  135.0   \n",
      "\n",
      "                         home.dest  \n",
      "0                     St Louis, MO  \n",
      "1  Montreal, PQ / Chesterville, ON  \n",
      "2  Montreal, PQ / Chesterville, ON  \n",
      "3  Montreal, PQ / Chesterville, ON  \n",
      "[answer16]\n",
      "\n",
      "df[:4]\n"
     ]
    }
   ],
   "source": [
    "# 【16】\n",
    "# dfのindex(行)の4行目までを表示\n",
    "#print(ans[16]) #回答表示\n",
    "df = initialize1() #初期化\n",
    "\n",
    "print(df.head(4))\n",
    "print(df[:4])\n",
    "\n",
    "print(ans[16])\n",
    "\n"
   ]
  },
  {
   "cell_type": "code",
   "execution_count": 79,
   "metadata": {},
   "outputs": [
    {
     "name": "stdout",
     "output_type": "stream",
     "text": [
      "[answer17]\n",
      "\n",
      "df[3:10]\n"
     ]
    }
   ],
   "source": [
    "# 【17】\n",
    "# dfのindex(行)の4行目から10行目までを表示\n",
    "#print(ans[17]) #回答表示\n",
    "df = initialize1() #初期化\n",
    "\n",
    "df[3:10]\n",
    "\n",
    "print(ans[17])\n"
   ]
  },
  {
   "cell_type": "code",
   "execution_count": 85,
   "metadata": {},
   "outputs": [
    {
     "name": "stdout",
     "output_type": "stream",
     "text": [
      "      pclass  survived                                             name  \\\n",
      "0          1         1                    Allen, Miss. Elisabeth Walton   \n",
      "1          1         1                   Allison, Master. Hudson Trevor   \n",
      "2          1         0                     Allison, Miss. Helen Loraine   \n",
      "3          1         0             Allison, Mr. Hudson Joshua Creighton   \n",
      "4          1         0  Allison, Mrs. Hudson J C (Bessie Waldo Daniels)   \n",
      "...      ...       ...                                              ...   \n",
      "1304       3         0                             Zabour, Miss. Hileni   \n",
      "1305       3         0                            Zabour, Miss. Thamine   \n",
      "1306       3         0                        Zakarian, Mr. Mapriededer   \n",
      "1307       3         0                              Zakarian, Mr. Ortin   \n",
      "1308       3         0                               Zimmerman, Mr. Leo   \n",
      "\n",
      "         sex    age  sibsp  parch  ticket      fare    cabin embarked boat  \\\n",
      "0     female  29.00      0      0   24160  211.3375       B5        S    2   \n",
      "1       male   0.92      1      2  113781  151.5500  C22 C26        S   11   \n",
      "2     female   2.00      1      2  113781  151.5500  C22 C26        S  NaN   \n",
      "3       male  30.00      1      2  113781  151.5500  C22 C26        S  NaN   \n",
      "4     female  25.00      1      2  113781  151.5500  C22 C26        S  NaN   \n",
      "...      ...    ...    ...    ...     ...       ...      ...      ...  ...   \n",
      "1304  female  14.50      1      0    2665   14.4542      NaN        C  NaN   \n",
      "1305  female    NaN      1      0    2665   14.4542      NaN        C  NaN   \n",
      "1306    male  26.50      0      0    2656    7.2250      NaN        C  NaN   \n",
      "1307    male  27.00      0      0    2670    7.2250      NaN        C  NaN   \n",
      "1308    male  29.00      0      0  315082    7.8750      NaN        S  NaN   \n",
      "\n",
      "       body                        home.dest  \n",
      "0       NaN                     St Louis, MO  \n",
      "1       NaN  Montreal, PQ / Chesterville, ON  \n",
      "2       NaN  Montreal, PQ / Chesterville, ON  \n",
      "3     135.0  Montreal, PQ / Chesterville, ON  \n",
      "4       NaN  Montreal, PQ / Chesterville, ON  \n",
      "...     ...                              ...  \n",
      "1304  328.0                              NaN  \n",
      "1305    NaN                              NaN  \n",
      "1306  304.0                              NaN  \n",
      "1307    NaN                              NaN  \n",
      "1308    NaN                              NaN  \n",
      "\n",
      "[1309 rows x 14 columns]\n",
      "[answer18]\n",
      "\n",
      "df.loc[:,:]\n"
     ]
    }
   ],
   "source": [
    "# 【18】\n",
    "# locを使ってdf全体を表示\n",
    "#print(ans[18]) #回答表示\n",
    "df = initialize1() #初期化\n",
    "\n",
    "print(df.loc[:])\n",
    "\n",
    "print(ans[18])"
   ]
  },
  {
   "cell_type": "code",
   "execution_count": 91,
   "metadata": {},
   "outputs": [
    {
     "data": {
      "text/html": [
       "<div>\n",
       "<style scoped>\n",
       "    .dataframe tbody tr th:only-of-type {\n",
       "        vertical-align: middle;\n",
       "    }\n",
       "\n",
       "    .dataframe tbody tr th {\n",
       "        vertical-align: top;\n",
       "    }\n",
       "\n",
       "    .dataframe thead th {\n",
       "        text-align: right;\n",
       "    }\n",
       "</style>\n",
       "<table border=\"1\" class=\"dataframe\">\n",
       "  <thead>\n",
       "    <tr style=\"text-align: right;\">\n",
       "      <th></th>\n",
       "      <th>pclass</th>\n",
       "      <th>survived</th>\n",
       "      <th>name</th>\n",
       "      <th>sex</th>\n",
       "      <th>age</th>\n",
       "      <th>sibsp</th>\n",
       "      <th>parch</th>\n",
       "      <th>ticket</th>\n",
       "      <th>fare</th>\n",
       "      <th>cabin</th>\n",
       "      <th>embarked</th>\n",
       "      <th>boat</th>\n",
       "      <th>body</th>\n",
       "      <th>home.dest</th>\n",
       "    </tr>\n",
       "  </thead>\n",
       "  <tbody>\n",
       "    <tr>\n",
       "      <th>0</th>\n",
       "      <td>1</td>\n",
       "      <td>1</td>\n",
       "      <td>Allen, Miss. Elisabeth Walton</td>\n",
       "      <td>female</td>\n",
       "      <td>29.00</td>\n",
       "      <td>0</td>\n",
       "      <td>0</td>\n",
       "      <td>24160</td>\n",
       "      <td>211.3375</td>\n",
       "      <td>B5</td>\n",
       "      <td>S</td>\n",
       "      <td>2</td>\n",
       "      <td>NaN</td>\n",
       "      <td>St Louis, MO</td>\n",
       "    </tr>\n",
       "    <tr>\n",
       "      <th>1</th>\n",
       "      <td>1</td>\n",
       "      <td>1</td>\n",
       "      <td>Allison, Master. Hudson Trevor</td>\n",
       "      <td>male</td>\n",
       "      <td>0.92</td>\n",
       "      <td>1</td>\n",
       "      <td>2</td>\n",
       "      <td>113781</td>\n",
       "      <td>151.5500</td>\n",
       "      <td>C22 C26</td>\n",
       "      <td>S</td>\n",
       "      <td>11</td>\n",
       "      <td>NaN</td>\n",
       "      <td>Montreal, PQ / Chesterville, ON</td>\n",
       "    </tr>\n",
       "    <tr>\n",
       "      <th>2</th>\n",
       "      <td>1</td>\n",
       "      <td>0</td>\n",
       "      <td>Allison, Miss. Helen Loraine</td>\n",
       "      <td>female</td>\n",
       "      <td>2.00</td>\n",
       "      <td>1</td>\n",
       "      <td>2</td>\n",
       "      <td>113781</td>\n",
       "      <td>151.5500</td>\n",
       "      <td>C22 C26</td>\n",
       "      <td>S</td>\n",
       "      <td>NaN</td>\n",
       "      <td>NaN</td>\n",
       "      <td>Montreal, PQ / Chesterville, ON</td>\n",
       "    </tr>\n",
       "    <tr>\n",
       "      <th>3</th>\n",
       "      <td>1</td>\n",
       "      <td>0</td>\n",
       "      <td>Allison, Mr. Hudson Joshua Creighton</td>\n",
       "      <td>male</td>\n",
       "      <td>30.00</td>\n",
       "      <td>1</td>\n",
       "      <td>2</td>\n",
       "      <td>113781</td>\n",
       "      <td>151.5500</td>\n",
       "      <td>C22 C26</td>\n",
       "      <td>S</td>\n",
       "      <td>NaN</td>\n",
       "      <td>135.0</td>\n",
       "      <td>Montreal, PQ / Chesterville, ON</td>\n",
       "    </tr>\n",
       "    <tr>\n",
       "      <th>4</th>\n",
       "      <td>1</td>\n",
       "      <td>0</td>\n",
       "      <td>Allison, Mrs. Hudson J C (Bessie Waldo Daniels)</td>\n",
       "      <td>female</td>\n",
       "      <td>25.00</td>\n",
       "      <td>1</td>\n",
       "      <td>2</td>\n",
       "      <td>113781</td>\n",
       "      <td>151.5500</td>\n",
       "      <td>C22 C26</td>\n",
       "      <td>S</td>\n",
       "      <td>NaN</td>\n",
       "      <td>NaN</td>\n",
       "      <td>Montreal, PQ / Chesterville, ON</td>\n",
       "    </tr>\n",
       "  </tbody>\n",
       "</table>\n",
       "</div>"
      ],
      "text/plain": [
       "   pclass  survived                                             name     sex  \\\n",
       "0       1         1                    Allen, Miss. Elisabeth Walton  female   \n",
       "1       1         1                   Allison, Master. Hudson Trevor    male   \n",
       "2       1         0                     Allison, Miss. Helen Loraine  female   \n",
       "3       1         0             Allison, Mr. Hudson Joshua Creighton    male   \n",
       "4       1         0  Allison, Mrs. Hudson J C (Bessie Waldo Daniels)  female   \n",
       "\n",
       "     age  sibsp  parch  ticket      fare    cabin embarked boat   body  \\\n",
       "0  29.00      0      0   24160  211.3375       B5        S    2    NaN   \n",
       "1   0.92      1      2  113781  151.5500  C22 C26        S   11    NaN   \n",
       "2   2.00      1      2  113781  151.5500  C22 C26        S  NaN    NaN   \n",
       "3  30.00      1      2  113781  151.5500  C22 C26        S  NaN  135.0   \n",
       "4  25.00      1      2  113781  151.5500  C22 C26        S  NaN    NaN   \n",
       "\n",
       "                         home.dest  \n",
       "0                     St Louis, MO  \n",
       "1  Montreal, PQ / Chesterville, ON  \n",
       "2  Montreal, PQ / Chesterville, ON  \n",
       "3  Montreal, PQ / Chesterville, ON  \n",
       "4  Montreal, PQ / Chesterville, ON  "
      ]
     },
     "execution_count": 91,
     "metadata": {},
     "output_type": "execute_result"
    }
   ],
   "source": [
    "df.head()"
   ]
  },
  {
   "cell_type": "code",
   "execution_count": 93,
   "metadata": {},
   "outputs": [
    {
     "name": "stdout",
     "output_type": "stream",
     "text": [
      "0       211.3375\n",
      "1       151.5500\n",
      "2       151.5500\n",
      "3       151.5500\n",
      "4       151.5500\n",
      "          ...   \n",
      "1304     14.4542\n",
      "1305     14.4542\n",
      "1306      7.2250\n",
      "1307      7.2250\n",
      "1308      7.8750\n",
      "Name: fare, Length: 1309, dtype: float64\n",
      "[answer19]\n",
      "\n",
      "df.loc[:,'fare']\n"
     ]
    }
   ],
   "source": [
    "# 【19】\n",
    "# locを使ってdfのfare列をすべて表示\n",
    "#print(ans[19]) #回答表示\n",
    "df = initialize1() #初期化\n",
    "\n",
    "print(df.loc[:, \"fare\"])\n",
    "\n",
    "print(ans[19])\n"
   ]
  },
  {
   "cell_type": "code",
   "execution_count": 101,
   "metadata": {},
   "outputs": [
    {
     "name": "stdout",
     "output_type": "stream",
     "text": [
      "0     211.3375\n",
      "1     151.5500\n",
      "2     151.5500\n",
      "3     151.5500\n",
      "4     151.5500\n",
      "5      26.5500\n",
      "6      77.9583\n",
      "7       0.0000\n",
      "8      51.4792\n",
      "9      49.5042\n",
      "10    227.5250\n",
      "Name: fare, dtype: float64\n",
      "[answer20]\n",
      "\n",
      "df.loc[:10,'fare']\n"
     ]
    }
   ],
   "source": [
    "# 【20】\n",
    "# locを使ってdfのfare列の10のラベルまで表示\n",
    "#print(ans[20]) #回答表示\n",
    "df = initialize1() #初期化\n",
    "\n",
    "print(df.loc[:10, \"fare\"])\n",
    "\n",
    "print(ans[20])"
   ]
  },
  {
   "cell_type": "code",
   "execution_count": 103,
   "metadata": {
    "scrolled": true
   },
   "outputs": [
    {
     "name": "stdout",
     "output_type": "stream",
     "text": [
      "[answer21]\n",
      "\n",
      "df.loc[:,['name','ticket']]\n"
     ]
    }
   ],
   "source": [
    "# 【21】\n",
    "# locを使ってdfのnameとticketの列をすべて表示\n",
    "#print(ans[21]) #回答表示\n",
    "df = initialize1() #初期化\n",
    "\n",
    "df.loc[:, [\"name\", \"ticket\"]]\n",
    "print(ans[21])\n",
    "\n"
   ]
  },
  {
   "cell_type": "code",
   "execution_count": null,
   "metadata": {},
   "outputs": [
    {
     "name": "stdout",
     "output_type": "stream",
     "text": [
      "[answer22]\n",
      "\n",
      "df.loc[:,'name':'cabin']\n"
     ]
    }
   ],
   "source": [
    "# 【22】\n",
    "# locを使ってdfのnameからcabinまでの列をすべて表示\n",
    "#print(ans[22]) #回答表示\n",
    "df = initialize1() #初期化\n",
    "df.head()\n",
    "df.loc[:, \"name\":\"cabin\"]\n",
    "\n",
    "print(ans[22])"
   ]
  },
  {
   "cell_type": "code",
   "execution_count": 114,
   "metadata": {},
   "outputs": [
    {
     "name": "stdout",
     "output_type": "stream",
     "text": [
      "0    29.00\n",
      "1     0.92\n",
      "2     2.00\n",
      "3    30.00\n",
      "4    25.00\n",
      "Name: age, dtype: float64\n",
      "[answer23]\n",
      "\n",
      "df.iloc[:5,4]\n",
      "\n",
      "\n",
      "[tips]\n",
      "ilocは抽出する行、列を番号で指定\n"
     ]
    }
   ],
   "source": [
    "# 【23】\n",
    "# ilocを使ってdfのage列を5行目まで表示\n",
    "#print(ans[23]) #回答表示\n",
    "df = initialize1() #初期化\n",
    "\n",
    "df.head()\n",
    "print(df.iloc[:5, 4])\n",
    "print(ans[23])\n"
   ]
  },
  {
   "cell_type": "code",
   "execution_count": 117,
   "metadata": {},
   "outputs": [
    {
     "name": "stdout",
     "output_type": "stream",
     "text": [
      "[answer24]\n",
      "\n",
      "df_copy = df[['name','age','sex']]\n",
      "df_copy.to_csv('../output/sample.csv')\n",
      "\n",
      "\n",
      "[Tips]\n",
      "・to_csvでcsv形式で出力\n",
      "・行番号、列名を削除して出力したいときは\n",
      "　index=None,header=Noneをつける\n",
      "\n",
      "df_copy.to_csv('../output/sample.csv',index=None,header=None)\n"
     ]
    }
   ],
   "source": [
    "# 【24】\n",
    "# dfのname,age,sexの列のみ抽出しdf_copyに格納\n",
    "# その後outputフォルダにcsvファイルで出力\n",
    "# 出力ファイル名はsample.csv\n",
    "#print(ans[24]) #回答表示\n",
    "df = initialize1() #初期化\n",
    "\n",
    "df_copy = df[[\"name\", \"age\", \"sex\"]]\n",
    "df_copy.to_csv(r\"D:\\program\\programming\\study\\Pandas_100_knocks\\output\\sample.csv\")\n",
    "\n",
    "print(ans[24])"
   ]
  },
  {
   "cell_type": "code",
   "execution_count": 119,
   "metadata": {},
   "outputs": [
    {
     "name": "stdout",
     "output_type": "stream",
     "text": [
      "[answer25]\n",
      "\n",
      "df[df['age'] >= 30]\n"
     ]
    }
   ],
   "source": [
    "# 【25】\n",
    "# dfのage列の値が30以上のデータのみ抽出\n",
    "#print(ans[25]) #回答表示\n",
    "df = initialize1() #初期化\n",
    "\n",
    "df[df[\"age\"] >= 30]\n",
    "\n",
    "print(ans[25])"
   ]
  },
  {
   "cell_type": "code",
   "execution_count": 124,
   "metadata": {},
   "outputs": [
    {
     "name": "stdout",
     "output_type": "stream",
     "text": [
      "[answer26]\n",
      "\n",
      "df[df['sex'] == 'female']\n"
     ]
    }
   ],
   "source": [
    "# 【26】\n",
    "# dfのsex列がfemaleのデータのみ抽出\n",
    "#print(ans[26]) #回答表示\n",
    "df = initialize1() #初期化\n",
    "df.head()\n",
    "df[df[\"sex\"] == \"female\"]\n",
    "\n",
    "print(ans[26])"
   ]
  },
  {
   "cell_type": "code",
   "execution_count": 130,
   "metadata": {},
   "outputs": [
    {
     "name": "stdout",
     "output_type": "stream",
     "text": [
      "[answer27]\n",
      "\n",
      "df[(df['sex'] == 'female' ) & (df['age'] >= 40)]\n"
     ]
    }
   ],
   "source": [
    "# 【27】\n",
    "# dfのsex列がfemaleでかつageが40以上のデータのみ抽出\n",
    "#print(ans[27]) #回答表示\n",
    "df = initialize1() #初期化\n",
    "\n",
    "df[(df[\"sex\"] == \"female\") & (df[\"age\"] >= 40)]\n",
    "\n",
    "print(ans[27])"
   ]
  },
  {
   "cell_type": "code",
   "execution_count": 133,
   "metadata": {},
   "outputs": [
    {
     "name": "stdout",
     "output_type": "stream",
     "text": [
      "[answer28]\n",
      "\n",
      "df.query('sex == \"female\" & age >= 40 ')\n",
      "\n"
     ]
    }
   ],
   "source": [
    "# 【28】\n",
    "# queryを用いてdfのsex列がfemaleでかつageが40以上のデータのみ抽出\n",
    "#print(ans[28]) #回答表示\n",
    "df = initialize1() #初期化\n",
    "\n",
    "df.query('sex == \"female\" & age >= 40')\n",
    "\n",
    "print(ans[28])"
   ]
  },
  {
   "cell_type": "code",
   "execution_count": 141,
   "metadata": {},
   "outputs": [
    {
     "name": "stdout",
     "output_type": "stream",
     "text": [
      "[answer29]\n",
      "\n",
      "df.query('name.str.contains(\"Mrs\")', engine='python')\n",
      "\n",
      "\n",
      "[Tips]\n",
      "特定の文字列を含むデータを抽出したいときは\n",
      "str.contains()を使用\n",
      "engine='python'を指定しないとエラーが出る\n"
     ]
    }
   ],
   "source": [
    "# 【29】\n",
    "# dfのname列に文字列「Mrs」が含まれるデータを表示\n",
    "#print(ans[29]) #回答表示\n",
    "df = initialize1() #初期化\n",
    "\n",
    "df[\"name\"].str.contains(\"Mrs\").value_counts()\n",
    "\n",
    "print(ans[29])"
   ]
  },
  {
   "cell_type": "code",
   "execution_count": null,
   "metadata": {},
   "outputs": [],
   "source": [
    "# 【30】\n",
    "# dfの中で文字列型の列のみを表示\n",
    "#print(ans[30]) #回答表示\n",
    "df = initialize1() #初期化\n",
    "\n",
    "\n",
    "\n"
   ]
  },
  {
   "cell_type": "code",
   "execution_count": null,
   "metadata": {},
   "outputs": [],
   "source": [
    "# 【31】\n",
    "# dfの各列の要素数の確認\n",
    "#print(ans[31]) #回答表示\n",
    "df = initialize1() #初期化\n",
    "\n",
    "\n",
    "\n"
   ]
  },
  {
   "cell_type": "code",
   "execution_count": null,
   "metadata": {},
   "outputs": [],
   "source": [
    "# 【32】\n",
    "# dfのembarked列の要素と出現回数の確認\n",
    "#print(ans[32]) #回答表示\n",
    "df = initialize1() #初期化\n",
    "\n",
    "\n",
    "\n"
   ]
  },
  {
   "cell_type": "markdown",
   "metadata": {},
   "source": [
    "# データ加工 (33 - 58)"
   ]
  },
  {
   "cell_type": "code",
   "execution_count": null,
   "metadata": {},
   "outputs": [],
   "source": [
    "# 【33】\n",
    "# dfのindex名が「3」のage列を\n",
    "# 30から40に変更し、先頭の5行を表示\n",
    "#print(ans[33]) #回答表示\n",
    "df = initialize1() #初期化\n",
    "\n",
    "\n",
    "\n"
   ]
  },
  {
   "cell_type": "code",
   "execution_count": null,
   "metadata": {},
   "outputs": [],
   "source": [
    "# 【34】\n",
    "# dfのsex列にてmale→0、femlae→1に\n",
    "# 変更し、先頭の5行を表示\n",
    "#print(ans[34]) #回答表示\n",
    "df = initialize1() #初期化\n",
    "\n",
    "\n",
    "\n"
   ]
  },
  {
   "cell_type": "code",
   "execution_count": null,
   "metadata": {
    "scrolled": true
   },
   "outputs": [],
   "source": [
    "# 【35】\n",
    "# dfのfare列に100を足して、\n",
    "# 先頭の5行を表示\n",
    "#print(ans[35]) #回答表示\n",
    "df = initialize1() #初期化\n",
    "\n",
    "\n",
    "\n"
   ]
  },
  {
   "cell_type": "code",
   "execution_count": null,
   "metadata": {},
   "outputs": [],
   "source": [
    "# 【36】\n",
    "# dfのfare列に2を掛けて、\n",
    "# 先頭の5行を表示\n",
    "#print(ans[36]) #回答表示\n",
    "df = initialize1() #初期化\n",
    "\n",
    "\n",
    "\n"
   ]
  },
  {
   "cell_type": "code",
   "execution_count": null,
   "metadata": {},
   "outputs": [],
   "source": [
    "# 【37】\n",
    "# dfのfare列を小数点以下で丸めて、先頭の5行を表示\n",
    "#print(ans[37]) #回答表示\n",
    "df = initialize1() #初期化\n",
    "\n",
    "\n",
    "\n"
   ]
  },
  {
   "cell_type": "code",
   "execution_count": null,
   "metadata": {},
   "outputs": [],
   "source": [
    "# 【38】\n",
    "# dfに列名「test」で値がすべて1の\n",
    "# カラムを追加し、先頭の5行を表示\n",
    "#print(ans[38]) #回答表示\n",
    "df = initialize1() #初期化\n",
    "\n",
    "\n",
    "\n"
   ]
  },
  {
   "cell_type": "code",
   "execution_count": null,
   "metadata": {},
   "outputs": [],
   "source": [
    "# 【39】\n",
    "# dfにcabinとembarkedの列を「_」で\n",
    "# 結合した列を追加(列名は「test」)し、\n",
    "# 先頭の5行を表示\n",
    "#print(ans[39]) #回答表示\n",
    "df = initialize1() #初期化\n",
    "\n",
    "\n",
    "\n"
   ]
  },
  {
   "cell_type": "code",
   "execution_count": null,
   "metadata": {},
   "outputs": [],
   "source": [
    "# 【40】\n",
    "# dfにageとembarkedの列を「_」で\n",
    "# 結合した列を追加(列名は「test」)し、\n",
    "# 先頭の5行を表示\n",
    "#print(ans[40]) #回答表示\n",
    "df = initialize1() #初期化\n",
    "\n",
    "\n",
    "\n"
   ]
  },
  {
   "cell_type": "code",
   "execution_count": null,
   "metadata": {},
   "outputs": [],
   "source": [
    "# 【41】\n",
    "# dfからbodyの列を削除し、最初の5行を表示\n",
    "#print(ans[41]) #回答表示\n",
    "df = initialize1() #初期化\n",
    "\n",
    "\n",
    "\n"
   ]
  },
  {
   "cell_type": "code",
   "execution_count": null,
   "metadata": {},
   "outputs": [],
   "source": [
    "# 【42】\n",
    "# dfからインデックス名「3」の行を削除し、最初の5行を表示\n",
    "#print(ans[42]) #回答表示\n",
    "df = initialize1() #初期化\n",
    "\n",
    "\n",
    "\n"
   ]
  },
  {
   "cell_type": "code",
   "execution_count": null,
   "metadata": {},
   "outputs": [],
   "source": [
    "# 【43】\n",
    "# df2の列名を'name', 'class', 'Biology', 'Physics', 'Chemistry'に変更\n",
    "# df2の最初の5行を表示\n",
    "#print(ans[43]) #回答表示\n",
    "df2 = initialize2() #初期化\n",
    "\n",
    "\n",
    "\n"
   ]
  },
  {
   "cell_type": "code",
   "execution_count": null,
   "metadata": {},
   "outputs": [],
   "source": [
    "# 【44】\n",
    "# df2の列名を'English'をBiology'に変更\n",
    "# df2の最初の5行を表示\n",
    "#print(ans[44]) #回答表示\n",
    "df2 = initialize2() #初期化\n",
    "\n",
    "\n",
    "\n",
    "\n"
   ]
  },
  {
   "cell_type": "code",
   "execution_count": null,
   "metadata": {},
   "outputs": [],
   "source": [
    "# 【45】\n",
    "# df2のインデックス名「1」を「10」に変更\n",
    "# df2の最初の5行を表示\n",
    "#print(ans[45]) #回答表示\n",
    "df2 = initialize2() #初期化\n",
    "\n",
    "\n",
    "\n"
   ]
  },
  {
   "cell_type": "code",
   "execution_count": null,
   "metadata": {},
   "outputs": [],
   "source": [
    "# 【46】\n",
    "# dfのすべての列の欠損値数を確認\n",
    "#print(ans[46]) #回答表示\n",
    "df = initialize1() #初期化\n",
    "\n",
    "\n",
    "\n"
   ]
  },
  {
   "cell_type": "code",
   "execution_count": null,
   "metadata": {},
   "outputs": [],
   "source": [
    "# 【47】\n",
    "# dfのage列の欠損値に30を代入\n",
    "# その後、ageの欠損値数を確認\n",
    "#print(ans[47]) #回答表示\n",
    "df = initialize1() #初期化\n",
    "\n",
    "\n",
    "\n"
   ]
  },
  {
   "cell_type": "code",
   "execution_count": null,
   "metadata": {},
   "outputs": [],
   "source": [
    "# 【48】\n",
    "# dfでひとつでも欠損値がある行を削除\n",
    "# その後、dfの欠損値数を確認\n",
    "#print(ans[48]) #回答表示\n",
    "df = initialize1() #初期化\n",
    "\n",
    "\n",
    "\n"
   ]
  },
  {
   "cell_type": "code",
   "execution_count": null,
   "metadata": {},
   "outputs": [],
   "source": [
    "# 【49】\n",
    "# dfのsurvivedの列をndarray形式(配列)で表示\n",
    "#print(ans[49]) #回答表示\n",
    "df = initialize1() #初期化\n",
    "\n",
    "\n",
    "\n"
   ]
  },
  {
   "cell_type": "code",
   "execution_count": null,
   "metadata": {},
   "outputs": [],
   "source": [
    "# 【50】\n",
    "# dfの行をシャッフルして表示\n",
    "#print(ans[50]) #回答表示\n",
    "df = initialize1() #初期化\n",
    "\n",
    "\n",
    "\n"
   ]
  },
  {
   "cell_type": "code",
   "execution_count": null,
   "metadata": {},
   "outputs": [],
   "source": [
    "# 【51】\n",
    "# dfの行をシャッフルし、インデックスを振り直して表示\n",
    "#print(ans[51]) #回答表示\n",
    "df = initialize1() #初期化\n",
    "\n",
    "\n",
    "\n"
   ]
  },
  {
   "cell_type": "code",
   "execution_count": null,
   "metadata": {},
   "outputs": [],
   "source": [
    "# 【52】\n",
    "# ①df2の重複行数をカウント\n",
    "# ②df2の重複行を削除し、df2を表示\n",
    "#print(ans[52]) #回答表示\n",
    "df2 = initialize2() #初期化\n",
    "\n",
    "\n",
    "\n"
   ]
  },
  {
   "cell_type": "code",
   "execution_count": null,
   "metadata": {},
   "outputs": [],
   "source": [
    "# 【53】\n",
    "# dfのnameの列をすべて大文字に変換し表示\n",
    "#print(ans[53]) #回答表示\n",
    "df = initialize1() #初期化\n",
    "\n",
    "\n",
    "\n"
   ]
  },
  {
   "cell_type": "code",
   "execution_count": null,
   "metadata": {},
   "outputs": [],
   "source": [
    "# 【54】\n",
    "# dfのnameの列をすべて小文字に変換し表示\n",
    "#print(ans[54]) #回答表示\n",
    "df = initialize1() #初期化\n",
    "\n",
    "\n",
    "\n"
   ]
  },
  {
   "cell_type": "code",
   "execution_count": null,
   "metadata": {},
   "outputs": [],
   "source": [
    "# 【55】\n",
    "# dfのsex列に含まれる「female」という単語を\n",
    "# 「Python」に置換。その後、1行目の\n",
    "# 「female」が「Python」に置き換わったことを確認\n",
    "#print(ans[55]) #回答表示\n",
    "df = initialize1() #初期化\n",
    "\n",
    "\n",
    "\n"
   ]
  },
  {
   "cell_type": "code",
   "execution_count": null,
   "metadata": {},
   "outputs": [],
   "source": [
    "# 【56】\n",
    "# dfのname列1行目の「Allen, Miss. Elisabeth Walton」の\n",
    "# 「Elisabeth」を消去(import reをインポート)\n",
    "#print(ans[56]) #回答表示\n",
    "df = initialize1() #初期化\n",
    "\n",
    "\n",
    "\n"
   ]
  },
  {
   "cell_type": "code",
   "execution_count": null,
   "metadata": {},
   "outputs": [],
   "source": [
    "# 【57】\n",
    "# df5の都道府県列と市区町村列を空白がないように\n",
    "# 「_」で結合(新規列名は「test2」)し、先頭5行を表示\n",
    "# ※df5の「test」列は通常通り結合した場合の結果\n",
    "#print(ans[57]) #回答表示\n",
    "\n",
    "\n",
    "\n"
   ]
  },
  {
   "cell_type": "code",
   "execution_count": null,
   "metadata": {},
   "outputs": [],
   "source": [
    "# 【58】\n",
    "# df2の行と列を入れ替えて表示\n",
    "#print(ans[58]) #回答表示\n",
    "df2 = initialize2() #初期化\n",
    "\n",
    "\n",
    "\n"
   ]
  },
  {
   "cell_type": "markdown",
   "metadata": {},
   "source": [
    "# マージと連結(59 - 65)"
   ]
  },
  {
   "cell_type": "code",
   "execution_count": null,
   "metadata": {},
   "outputs": [],
   "source": [
    "# 【59】\n",
    "# df2にdf3を左結合（結合キーはname）し、df2に格納\n",
    "#print(ans[59]) #回答表示\n",
    "df2 = initialize2() #初期化\n",
    "\n",
    "\n",
    "\n"
   ]
  },
  {
   "cell_type": "code",
   "execution_count": null,
   "metadata": {},
   "outputs": [],
   "source": [
    "# 【60】\n",
    "# df2にdf3を右結合（結合キーはname）し、df2に格納\n",
    "#print(ans[60]) #回答表示\n",
    "df2 = initialize2() #初期化\n",
    "\n",
    "\n",
    "\n"
   ]
  },
  {
   "cell_type": "code",
   "execution_count": null,
   "metadata": {},
   "outputs": [],
   "source": [
    "# 【61】\n",
    "# df2にdf3を内部結合（結合キーはname）し、df2に格納\n",
    "#print(ans[61]) #回答表示\n",
    "df2 = initialize2() #初期化\n",
    "\n",
    "\n",
    "\n"
   ]
  },
  {
   "cell_type": "code",
   "execution_count": null,
   "metadata": {},
   "outputs": [],
   "source": [
    "# 【62】\n",
    "# df2にdf3を外部結合し、df2に格納\n",
    "#print(ans[62]) #回答表示\n",
    "df2 = initialize2() #初期化\n",
    "\n",
    "\n",
    "\n"
   ]
  },
  {
   "cell_type": "code",
   "execution_count": null,
   "metadata": {},
   "outputs": [],
   "source": [
    "# 【63】\n",
    "# df2とdf4を列方向に連結し、df2に格納\n",
    "#print(ans[63]) #回答表示\n",
    "df2 = initialize2() #初期化\n",
    "\n",
    "\n",
    "\n"
   ]
  },
  {
   "cell_type": "code",
   "execution_count": null,
   "metadata": {},
   "outputs": [],
   "source": [
    "# 【64】\n",
    "# df2とdf4を列方向に連結後、重複している\n",
    "# name列の片方を削除し、df2に格納\n",
    "#print(ans[64]) #回答表示\n",
    "df2 = initialize2() #初期化\n",
    "\n",
    "\n",
    "\n"
   ]
  },
  {
   "cell_type": "code",
   "execution_count": null,
   "metadata": {},
   "outputs": [],
   "source": [
    "# 【65】\n",
    "# df2とdf4を行方向に連結し、df2に格納\n",
    "#print(ans[65]) #回答表示\n",
    "df2 = initialize2() #初期化\n",
    "\n",
    "\n",
    "\n"
   ]
  },
  {
   "cell_type": "markdown",
   "metadata": {},
   "source": [
    "# 統計 (66 - 79)"
   ]
  },
  {
   "cell_type": "code",
   "execution_count": null,
   "metadata": {},
   "outputs": [],
   "source": [
    "# 【66】\n",
    "# dfのage列の平均値を確認\n",
    "#print(ans[66]) #回答表示\n",
    "df = initialize1() #初期化\n",
    "\n",
    "\n",
    "\n"
   ]
  },
  {
   "cell_type": "code",
   "execution_count": null,
   "metadata": {},
   "outputs": [],
   "source": [
    "# 【67】\n",
    "# dfのage列の中央値を確認\n",
    "#print(ans[67]) #回答表示\n",
    "df = initialize1() #初期化\n",
    "\n",
    "\n",
    "\n"
   ]
  },
  {
   "cell_type": "code",
   "execution_count": null,
   "metadata": {},
   "outputs": [],
   "source": [
    "# 【68】\n",
    "# ①df2の生徒ごとの合計点（行方向の合計）\n",
    "# ②df2の科目ごとの点数の総和（列方向の合計）\n",
    "#print(ans[68]) #回答表示\n",
    "df2 = initialize2() #初期化\n",
    "\n",
    "\n",
    "\n"
   ]
  },
  {
   "cell_type": "code",
   "execution_count": null,
   "metadata": {},
   "outputs": [],
   "source": [
    "# 【69】\n",
    "# df2のEnglishで得点の最大値\n",
    "#print(ans[69]) #回答表示\n",
    "df2 = initialize2() #初期化\n",
    "\n",
    "\n",
    "\n"
   ]
  },
  {
   "cell_type": "code",
   "execution_count": null,
   "metadata": {},
   "outputs": [],
   "source": [
    "# 【70】\n",
    "# df2のEnglishで得点の最小値\n",
    "#print(ans[70]) #回答表示\n",
    "df2 = initialize2() #初期化\n",
    "\n",
    "\n",
    "\n"
   ]
  },
  {
   "cell_type": "code",
   "execution_count": null,
   "metadata": {},
   "outputs": [],
   "source": [
    "# 【71】\n",
    "# df2においてclassでグルーピングし、クラスごとの科目の\n",
    "# 最大値、最小値、平均値を求める(name列は削除しておく)\n",
    "#print(ans[71]) #回答表示\n",
    "df2 = initialize2() #初期化\n",
    "\n",
    "\n",
    "\n"
   ]
  },
  {
   "cell_type": "code",
   "execution_count": null,
   "metadata": {},
   "outputs": [],
   "source": [
    "# 【72】\n",
    "# dfの基本統計量を確認(describe)\n",
    "#print(ans[72]) #回答表示\n",
    "df = initialize1() #初期化\n",
    "\n",
    "\n",
    "\n"
   ]
  },
  {
   "cell_type": "code",
   "execution_count": null,
   "metadata": {},
   "outputs": [],
   "source": [
    "# 【73】\n",
    "# dfの各列間の(Pearson)相関係数を確認\n",
    "#print(ans[73]) #回答表示\n",
    "df = initialize1() #初期化\n",
    "\n",
    "\n",
    "\n"
   ]
  },
  {
   "cell_type": "code",
   "execution_count": null,
   "metadata": {},
   "outputs": [],
   "source": [
    "# 【74】\n",
    "# scikit-learnを用いてdf2のEnglish、Mathematics、History列を標準化する\n",
    "# (from sklearn.preprocessing import StandardScalerをインポート)\n",
    "#print(ans[74]) #回答表示\n",
    "df2 = initialize2() #初期化\n",
    "\n",
    "\n",
    "\n"
   ]
  },
  {
   "cell_type": "code",
   "execution_count": null,
   "metadata": {},
   "outputs": [],
   "source": [
    "# 【75】\n",
    "# scikit-learnを用いてdf2のEnglish列を標準化する\n",
    "# (from sklearn.preprocessing import StandardScalerをインポート)\n",
    "#print(ans[75]) #回答表示\n",
    "df2 = initialize2() #初期化\n",
    "\n",
    "\n",
    "\n"
   ]
  },
  {
   "cell_type": "code",
   "execution_count": null,
   "metadata": {},
   "outputs": [],
   "source": [
    "# 【76】\n",
    "# scikit-learnを用いてdf2のEnglish、Mathematics、History列を\n",
    "# Min-Maxスケーリングする\n",
    "# (from sklearn.preprocessing import MinMaxScalerをインポート)\n",
    "#print(ans[76]) #回答表示\n",
    "df2 = initialize2() #初期化\n",
    "\n",
    "\n",
    "\n"
   ]
  },
  {
   "cell_type": "code",
   "execution_count": null,
   "metadata": {},
   "outputs": [],
   "source": [
    "# 【77】\n",
    "# dfのfare列の最大値、最小値の行名を取得\n",
    "#print(ans[77]) #回答表示\n",
    "df = initialize1() #初期化\n",
    "\n",
    "\n",
    "\n"
   ]
  },
  {
   "cell_type": "code",
   "execution_count": null,
   "metadata": {},
   "outputs": [],
   "source": [
    "# 【78】\n",
    "# dfのfare列の0、25、50、75、100パーセンタイルを取得\n",
    "#print(ans[78]) #回答表示\n",
    "df = initialize1() #初期化\n",
    "\n",
    "\n",
    "\n"
   ]
  },
  {
   "cell_type": "code",
   "execution_count": null,
   "metadata": {},
   "outputs": [],
   "source": [
    "# 【79】\n",
    "# ①dfのage列の最頻値を取得\n",
    "# ②value_counts()にてage列の要素数を\n",
    "# 確認し、①の結果の妥当性を確認\n",
    "#print(ans[79]) #回答表示\n",
    "df = initialize1() #初期化\n",
    "\n",
    "\n",
    "\n"
   ]
  },
  {
   "cell_type": "markdown",
   "metadata": {},
   "source": [
    "# ラベリング (80 - 81)"
   ]
  },
  {
   "cell_type": "code",
   "execution_count": null,
   "metadata": {},
   "outputs": [],
   "source": [
    "# 【80】\n",
    "# dfのsex列をラベルエンコーディングし、\n",
    "# dfの先頭5行を表示\n",
    "# (from sklearn.preprocessing import LabelEncoderをインポート)\n",
    "#print(ans[80]) #回答表示\n",
    "df = initialize1() #初期化\n",
    "\n",
    "\n",
    "\n"
   ]
  },
  {
   "cell_type": "code",
   "execution_count": null,
   "metadata": {},
   "outputs": [],
   "source": [
    "# 【81】\n",
    "# dfのsex列をOne-hotエンコーディングし、\n",
    "# dfの先頭5行を表示\n",
    "#print(ans[81]) #回答表示\n",
    "df = initialize1() #初期化\n",
    "\n",
    "\n",
    "\n"
   ]
  },
  {
   "cell_type": "markdown",
   "metadata": {},
   "source": [
    "# Pandasプロット (82 - 89)\n",
    "Pandasプロットの機能については以下のサイトの説明が分かりやすいです  \n",
    "[自調自考の旅](https://own-search-and-study.xyz/2016/08/03/pandas%E3%81%AEplot%E3%81%AE%E5%85%A8%E5%BC%95%E6%95%B0%E3%82%92%E4%BD%BF%E3%81%84%E3%81%93%E3%81%AA%E3%81%99/)"
   ]
  },
  {
   "cell_type": "code",
   "execution_count": null,
   "metadata": {},
   "outputs": [],
   "source": [
    "# 【82】\n",
    "# dfのすべての数値列のヒストグラムを表示\n",
    "#print(ans[82]) #回答表示\n",
    "df = initialize1() #初期化\n",
    "\n",
    "\n",
    "\n"
   ]
  },
  {
   "cell_type": "code",
   "execution_count": null,
   "metadata": {},
   "outputs": [],
   "source": [
    "# 【83】\n",
    "# dfのage列をヒストグラムで表示\n",
    "#print(ans[83]) #回答表示\n",
    "df = initialize1() #初期化\n",
    "\n",
    "\n",
    "\n"
   ]
  },
  {
   "cell_type": "code",
   "execution_count": null,
   "metadata": {},
   "outputs": [],
   "source": [
    "# 【84】\n",
    "# df2のname列の要素ごとの3科目合計得点を棒グラフで表示\n",
    "#print(ans[84]) #回答表示\n",
    "df2 = initialize2() #初期化\n",
    "\n",
    "\n",
    "\n"
   ]
  },
  {
   "cell_type": "code",
   "execution_count": null,
   "metadata": {},
   "outputs": [],
   "source": [
    "# 【85】\n",
    "# df2のname列の要素ごとの3科目を棒グラフで\n",
    "# 並べて表示\n",
    "#print(ans[85]) #回答表示\n",
    "df2 = initialize2() #初期化\n",
    "\n",
    "\n",
    "\n"
   ]
  },
  {
   "cell_type": "code",
   "execution_count": null,
   "metadata": {},
   "outputs": [],
   "source": [
    "# 【86】\n",
    "# df2のname列の要素ごとの3科目を積み上げ棒グラフで表示\n",
    "#print(ans[86]) #回答表示\n",
    "df2 = initialize2() #初期化\n",
    "\n",
    "\n",
    "\n"
   ]
  },
  {
   "cell_type": "code",
   "execution_count": null,
   "metadata": {},
   "outputs": [],
   "source": [
    "# 【87】\n",
    "# dfの各列間の散布図を表示\n",
    "# (from pandas.plotting import scatter_matrixをインポート)\n",
    "#print(ans[87]) #回答表示\n",
    "df = initialize1() #初期化\n",
    "\n",
    "\n",
    "\n"
   ]
  },
  {
   "cell_type": "code",
   "execution_count": null,
   "metadata": {},
   "outputs": [],
   "source": [
    "# 【88】\n",
    "# dfのage列とfare列で散布図を作成\n",
    "#print(ans[88]) #回答表示\n",
    "df = initialize1() #初期化\n",
    "\n",
    "\n",
    "\n"
   ]
  },
  {
   "cell_type": "code",
   "execution_count": null,
   "metadata": {},
   "outputs": [],
   "source": [
    "# 【89】\n",
    "# 【88】で描画したグラフに「age-fare scatter」という\n",
    "# グラフタイトルをつける\n",
    "#print(ans[89]) #回答表示\n",
    "df = initialize1() #初期化\n",
    "\n",
    "\n",
    "\n"
   ]
  },
  {
   "cell_type": "markdown",
   "metadata": {},
   "source": [
    "# タイタニック号の生存者予測 (90 - 100)  \n",
    "これまで触れてきたタイタニック号の乗客データを使用して、乗客の生存有無を  \n",
    "予測してみます。  \n",
    "  \n",
    "※90～100については順番通りにやらないと上手く動作しません"
   ]
  },
  {
   "cell_type": "code",
   "execution_count": null,
   "metadata": {},
   "outputs": [],
   "source": [
    "# 【90】ラベルエンコーディング\n",
    "# df_copyのsexとembarked列をラベルエンコーディング\n",
    "# (from sklearn.preprocessing import LabelEncoderをインポート)\n",
    "# (df_copyはdfをコピーしたもの)\n",
    "#print(ans[90]) #回答表示\n",
    "df_copy =df.copy()\n",
    "\n",
    "\n",
    "\n"
   ]
  },
  {
   "cell_type": "code",
   "execution_count": null,
   "metadata": {},
   "outputs": [],
   "source": [
    "# 【91】欠損値確認\n",
    "# df_copyの欠損値を確認\n",
    "#print(ans[91]) #回答表示\n",
    "\n",
    "\n",
    "\n"
   ]
  },
  {
   "cell_type": "code",
   "execution_count": null,
   "metadata": {},
   "outputs": [],
   "source": [
    "# 【92】欠損値補完\n",
    "# df_copyのage、fare列の欠損値を各列の平均値で補完\n",
    "#print(ans[92]) #回答表示\n",
    "\n",
    "\n",
    "\n"
   ]
  },
  {
   "cell_type": "code",
   "execution_count": null,
   "metadata": {},
   "outputs": [],
   "source": [
    "# 【93】不要列の削除\n",
    "# df_copyの中で機械学習で使用しない不要な行を削除\n",
    "# (name, ticket, cabin, boat, body, home.destを削除)\n",
    "#print(ans[93]) #回答表示\n",
    "\n",
    "\n",
    "\n"
   ]
  },
  {
   "cell_type": "code",
   "execution_count": null,
   "metadata": {},
   "outputs": [],
   "source": [
    "# 【94】ndarray形式への変換\n",
    "# ①df_copyのpclass、age、sex、fare、embarkedの列を抽出し、ndarray形式に変換\n",
    "# ②df_copyのsurvivedの列を抽出し、ndarray形式に変換\n",
    "# (①をfeatures、②をtargetという変数にそれぞれ格納)\n",
    "#print(ans[94]) #回答表示\n",
    "\n",
    "\n",
    "\n"
   ]
  },
  {
   "cell_type": "code",
   "execution_count": null,
   "metadata": {},
   "outputs": [],
   "source": [
    "# 【95】学習データとテストデータに分割\n",
    "# 【94】で作成したfeatrues、targetを学習データとテストデータに分割\n",
    "# (from sklearn.model_selection import  train_test_splitをインポート)\n",
    "# ※分割時のパラメータは次を指定 test_size=0.3 random_state=0\n",
    "#print(ans[95]) #回答表示\n",
    "\n",
    "\n",
    "\n"
   ]
  },
  {
   "cell_type": "code",
   "execution_count": null,
   "metadata": {},
   "outputs": [],
   "source": [
    "# 【96】学習の実行\n",
    "# 学習データ(features、target)を用いランダムフォレストにて学習を実行\n",
    "# (from sklearn.ensemble import RandomForestClassifierをインポート)\n",
    "# ※パラメータは次を指定 n_estimators=100 random_state=0\n",
    "#print(ans[96]) #回答表示\n",
    "\n",
    "\n",
    "\n"
   ]
  },
  {
   "cell_type": "code",
   "execution_count": null,
   "metadata": {},
   "outputs": [],
   "source": [
    "# 【97】予測の実行\n",
    "# test_Xデータの乗客の生存を予測\n",
    "#print(ans[97]) #回答表示\n",
    "\n",
    "\n",
    "\n"
   ]
  },
  {
   "cell_type": "code",
   "execution_count": null,
   "metadata": {},
   "outputs": [],
   "source": [
    "# 【98】予測精度の確認\n",
    "# 予測結果がtest_y(生存有無の答え)とどれぐらい\n",
    "# 整合していたかを確認(評価指標はaccuracy)\n",
    "# (from sklearn.metrics import accuracy_scoreをインポート)\n",
    "#print(ans[98]) #回答表示\n",
    "\n",
    "\n",
    "\n"
   ]
  },
  {
   "cell_type": "code",
   "execution_count": null,
   "metadata": {},
   "outputs": [],
   "source": [
    "# 【99】重要度の確認\n",
    "# 学習における各列(特徴量)の\n",
    "# 重要度を表示\n",
    "#print(ans[99]) #回答表示\n",
    "\n",
    "\n",
    "\n"
   ]
  },
  {
   "cell_type": "code",
   "execution_count": null,
   "metadata": {},
   "outputs": [],
   "source": [
    "# 【100】予測結果のcsv出力\n",
    "# test_Xの予測結果をcsvでoutputフォルダに出力(ファイル名は「submission.csv」)\n",
    "# (headerは不要)\n",
    "#print(ans[100]) #回答表示\n",
    "\n",
    "\n",
    "\n"
   ]
  },
  {
   "cell_type": "markdown",
   "metadata": {},
   "source": [
    "# ノックお疲れ様でした\n",
    "各セルのoutput表示をすべてクリアにしたい場合は、ツールバーの  \n",
    "「Kernel」→「Restart & Clear Output」を実行して下さい。"
   ]
  }
 ],
 "metadata": {
  "kernelspec": {
   "display_name": "Python 3",
   "language": "python",
   "name": "python3"
  },
  "language_info": {
   "codemirror_mode": {
    "name": "ipython",
    "version": 3
   },
   "file_extension": ".py",
   "mimetype": "text/x-python",
   "name": "python",
   "nbconvert_exporter": "python",
   "pygments_lexer": "ipython3",
   "version": "3.12.9"
  }
 },
 "nbformat": 4,
 "nbformat_minor": 4
}
